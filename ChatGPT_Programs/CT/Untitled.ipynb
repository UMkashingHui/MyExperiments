{
 "cells": [
  {
   "cell_type": "code",
   "execution_count": 3,
   "id": "6a31ab3e",
   "metadata": {},
   "outputs": [],
   "source": [
    "import cv2\n",
    "import os"
   ]
  },
  {
   "cell_type": "code",
   "execution_count": 17,
   "id": "48261976",
   "metadata": {},
   "outputs": [
    {
     "name": "stdout",
     "output_type": "stream",
     "text": [
      "3984\n"
     ]
    },
    {
     "data": {
      "text/plain": [
       "True"
      ]
     },
     "execution_count": 17,
     "metadata": {},
     "output_type": "execute_result"
    }
   ],
   "source": [
    "source_path = \"/Users/kevinhui/WorkPlace/ThesisProject/MyExperiments/jpg_files/Experiment_Graphs/Original\"\n",
    "result_path = \"/Users/kevinhui/WorkPlace/ThesisProject/MyExperiments/jpg_files/Experiment_Graphs/CT_Results\"\n",
    "source_sparse = \"Sparse_KKW_n=2000_d=6.jpg\"\n",
    "source_uniform = \"Uniform_KKW_n=2000_d=6.jpg\"\n",
    "target_sparse = \"Sparse_KKW_n=2000_d=6_Result_CT.jpg\"\n",
    "target_uniform = \"Uniform_KKW_n=2000_d=6_Result_CT.jpg\"\n",
    "\n",
    "img = cv2.imread(os.path.join(source_path, source_sparse))\n",
    "# img = cv2.imread(os.path.join(source_path, source_uniform))\n",
    "\n",
    "img_gray = cv2.cvtColor(img, cv2.COLOR_BGR2GRAY)\n",
    "# 使用Otsu自动阈值，注意用的是cv2.THRESH_BINARY_INV\n",
    "ret, thresh = cv2.threshold(\n",
    "    img_gray, 0, 255, cv2.THRESH_BINARY_INV + cv2.THRESH_OTSU)\n",
    "# cv2.imshow(\"thresh\", thresh)\n",
    "\"\"\"\n",
    "寻找轮廓方法三个参数：输入图像，轮廓检索模式，轮廓近似方法\n",
    "返回值contours是轮廓本身contours，还有一个是每条轮廓对应的属性hierarchy，下边详解\n",
    "\"\"\"\n",
    "contours, hierarchy = cv2.findContours(\n",
    "    thresh, cv2.RETR_TREE, cv2.CHAIN_APPROX_SIMPLE)\n",
    "print(len(contours)) # 结果应该为2，两个轮廓\n",
    "cnt = contours[1]\n",
    "\"\"\"\n",
    "绘制轮廓:\n",
    "第一个参数是一张图片，可以是原图或者其他。\n",
    "第二个参数是轮廓，也可以说是cv2.findContours()找出来的点集，一个列表。\n",
    "第三个参数是对轮廓（第二个参数）的索引，当需要绘制独立轮廓时很有用，若要全部绘制可设为-1。\n",
    "接下来的参数是轮廓的颜色和厚度。\n",
    "\"\"\"\n",
    "cv2.drawContours(img, contours, -1, (0, 0, 255), 10)\n",
    " \n",
    "cv2.imwrite(os.path.join(result_path, target_sparse), img)\n",
    "# cv2.imwrite(os.path.join(result_path, target_uniform), img)\n"
   ]
  },
  {
   "cell_type": "code",
   "execution_count": null,
   "id": "01e6181d",
   "metadata": {},
   "outputs": [],
   "source": []
  }
 ],
 "metadata": {
  "kernelspec": {
   "display_name": "Python 3 (ipykernel)",
   "language": "python",
   "name": "python3"
  },
  "language_info": {
   "codemirror_mode": {
    "name": "ipython",
    "version": 3
   },
   "file_extension": ".py",
   "mimetype": "text/x-python",
   "name": "python",
   "nbconvert_exporter": "python",
   "pygments_lexer": "ipython3",
   "version": "3.8.16"
  }
 },
 "nbformat": 4,
 "nbformat_minor": 5
}
