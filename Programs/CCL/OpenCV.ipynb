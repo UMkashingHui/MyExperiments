{
 "cells": [
  {
   "cell_type": "code",
   "execution_count": 1,
   "id": "0b5137ab",
   "metadata": {},
   "outputs": [],
   "source": [
    "import cv2\n",
    "import numpy as np\n",
    "import os"
   ]
  },
  {
   "cell_type": "code",
   "execution_count": 2,
   "id": "1c34be58",
   "metadata": {},
   "outputs": [],
   "source": [
    "def fill_color_demo(image):\n",
    "    copyIma = image.copy()\n",
    "    h, w = image.shape[:2]\n",
    "    print(h, w)\n",
    "    mask = np.zeros([h+2, w+2], np.uint8)\n",
    "    \n",
    "    cv2.floodFill(copyIma, mask, (0, 0), (0, 0, 0), (100, 100, 100), (50, 50, 50), cv2.FLOODFILL_FIXED_RANGE)\n",
    "    cv2.floodFill(copyIma, mask, (w-1, 0), (0, 0, 0), (100, 100, 100), (50, 50, 50), cv2.FLOODFILL_FIXED_RANGE)  \n",
    "    cv2.floodFill(copyIma, mask, (0, h-1), (0, 0, 0), (100, 100, 100), (50, 50, 50), cv2.FLOODFILL_FIXED_RANGE)  \n",
    "    cv2.floodFill(copyIma, mask, (w-1, h-1), (0, 0, 0), (100, 100, 100), (50, 50, 50), cv2.FLOODFILL_FIXED_RANGE)  \n",
    "\n",
    "    return copyIma"
   ]
  },
  {
   "cell_type": "code",
   "execution_count": 3,
   "id": "9acd71fe",
   "metadata": {},
   "outputs": [
    {
     "name": "stdout",
     "output_type": "stream",
     "text": [
      "2000 2000\n"
     ]
    }
   ],
   "source": [
    "source_path = \"../../../Data/jpg/CT_jpg/Original\"\n",
    "result_path = \"../../../Data/jpg/CT_jpg/CCL_Results\"\n",
    "\n",
    "source_sparse = \"Sparse_KKW_n=2000_d=6.jpg\"\n",
    "source_uniform = \"Uniform_KKW_n=2000_d=6.jpg\"\n",
    "target_sparse = \"Sparse_KKW_n=2000_d=6_Result_CCL.jpg\"\n",
    "target_uniform = \"Uniform_KKW_n=2000_d=6_Result_CCL.jpg\"\n",
    "target_ff_uniform = \"Uniform_KKW_n=2000_d=6_FF_CCL.jpg\"\n",
    "target_ff_sparse = \"Sparse_KKW_n=2000_d=6_FF_CCL.jpg\"\n",
    "fpath = \"Lines_n=500d=6.jpg\"\n",
    "# # 读入图片\n",
    "# img_ff = cv2.imread(os.path.join(source_path, source_sparse))\n",
    "# img_ff = cv2.imread(os.path.join(source_path, source_uniform))\n",
    "img = cv2.imread(fpath)\n",
    "img_ff = fill_color_demo(img)\n",
    "# img_ff = fill_color_demo(img)\n",
    "# cv2.imwrite(os.path.join(result_path, target_ff_sparse), img_ff)\n"
   ]
  },
  {
   "cell_type": "code",
   "execution_count": 4,
   "id": "fc1729d8",
   "metadata": {
    "scrolled": true
   },
   "outputs": [
    {
     "name": "stdout",
     "output_type": "stream",
     "text": [
      "num_labels =  1182\n",
      "stats =  [[      0       0    2000    2000 1308538]\n",
      " [    424       0    1052     243   98894]\n",
      " [    339      14      85      27    1215]\n",
      " ...\n",
      " [   1065    1955      90      29    1398]\n",
      " [   1441    1970      49      23     424]\n",
      " [   1417    1982      21      12     149]]\n",
      "centroids =  [[1101.66362154 1054.23745508]\n",
      " [1006.60159363   72.27579024]\n",
      " [ 390.44526749   29.89382716]\n",
      " ...\n",
      " [1114.64592275 1970.62660944]\n",
      " [1459.9009434  1980.97877358]\n",
      " [1428.87248322 1986.77852349]]\n",
      "labels =  [[0 0 0 ... 0 0 0]\n",
      " [0 0 0 ... 0 0 0]\n",
      " [0 0 0 ... 0 0 0]\n",
      " ...\n",
      " [0 0 0 ... 0 0 0]\n",
      " [0 0 0 ... 0 0 0]\n",
      " [0 0 0 ... 0 0 0]]\n"
     ]
    },
    {
     "data": {
      "text/plain": [
       "True"
      ]
     },
     "execution_count": 4,
     "metadata": {},
     "output_type": "execute_result"
    }
   ],
   "source": [
    "# 中值滤波，去噪\n",
    "img_ff = cv2.medianBlur(img_ff, 3)\n",
    "gray = cv2.cvtColor(img_ff, cv2.COLOR_BGR2GRAY)\n",
    "# cv2.imwrite(os.path.join(result_dir, grey_file), gray)\n",
    "\n",
    "#Calulate the canvas size by the node numbers and radius of node\n",
    "canvas_size = img_ff.shape[0]\n",
    "#Calulate the ratio for enlarge the coorodinate of node that fitting the canvas size\n",
    "area_min_radio = 5000 / 4000\n",
    "area_min = area_min_radio * canvas_size\n",
    "\n",
    "# 阈值分割得到二值化图片\n",
    "ret, binary = cv2.threshold(gray, 0, 255, cv2.THRESH_BINARY | cv2.THRESH_OTSU)\n",
    "# cv2.imwrite(os.path.join(result_dir, binary_file), binary)\n",
    "# 膨胀操作\n",
    "# kernel2 = cv2.getStructuringElement(cv2.MORPH_RECT, (3, 3))\n",
    "# bin_clo = cv2.dilate(binary, kernel2, iterations=2)\n",
    "\n",
    "# 连通域分析\n",
    "num_labels, labels, stats, centroids = cv2.connectedComponentsWithStats(binary, connectivity=4)\n",
    "# num_labels, labels, stats, centroids = cv2.connectedComponentsWithStats(bin_clo, connectivity=8)\n",
    "\n",
    "# 查看各个返回值\n",
    "# 连通域数量\n",
    "print('num_labels = ',num_labels)\n",
    "# 连通域的信息：对应各个轮廓的x、y、width、height和面积\n",
    "print('stats = ',stats)\n",
    "# 连通域的中心点\n",
    "print('centroids = ',centroids)\n",
    "# 每一个像素的标签1、2、3.。。，同一个连通域的标签是一致的\n",
    "print('labels = ',labels)\n",
    "\n",
    "# 不同的连通域赋予不同的颜色\n",
    "# output = np.zeros((img.shape[0], img.shape[1], 3), np.uint8)\n",
    "# output[:, :] = [255, 255, 255] \n",
    "\n",
    "output = img\n",
    "for i in range(1, num_labels):\n",
    "    # Area of the component\n",
    "    x, y, w, h, area = stats[i]\n",
    "#     area = stats[i, cv2.CC_STAT_AREA] \n",
    "    if area > area_min:\n",
    "        # cv2.rectangle(output, (x, y), (x + w, y + h), (0, 0, 255), 2)\n",
    "\n",
    "#         print(str(i) + \" area is \" + str(area))\n",
    "        mask = labels == i\n",
    "        output[:, :, 0][mask] = 255\n",
    "        output[:, :, 1][mask] = 0\n",
    "        output[:, :, 2][mask] = 0\n",
    "\n",
    "#         componentMask = (label_ids == i).astype(\"uint8\") * 255\n",
    "#         output = cv2.bitwise_or(output, componentMask)\n",
    "        \n",
    "# cv2.imwrite(os.path.join(result_path, target_uniform), output)\n",
    "# cv2.imwrite(os.path.join(result_path, target_sparse), output)\n",
    "cv2.imwrite(\"result.jpg\", output)\n"
   ]
  },
  {
   "cell_type": "code",
   "execution_count": 5,
   "id": "d05806dc",
   "metadata": {},
   "outputs": [],
   "source": [
    "def jpg_ccl(binary):\n",
    "    # 连通域分析\n",
    "    num_labels, labels, stats, centroids = cv2.connectedComponentsWithStats(binary, connectivity=4)\n",
    "    return num_labels, labels, stats, centroids"
   ]
  },
  {
   "cell_type": "code",
   "execution_count": 6,
   "id": "cc700e78",
   "metadata": {},
   "outputs": [],
   "source": [
    "import cv2\n",
    "import numpy as np\n",
    "import os\n",
    "os.environ[\"KMP_DUPLICATE_LIB_OK\"]=\"TRUE\"\n",
    "\n",
    "num_labels_list = []\n",
    "labels_list = []\n",
    "stats_list = []\n",
    "centroids_list = []\n",
    "ccl_dict = {}\n",
    "for root, dirs, files in os.walk(\"../../jpg_files\", topdown=False):\n",
    "    for name in files:\n",
    "        if '.jpg' in name:\n",
    "            fpath = os.path.join(root, name)\n",
    "            img = cv2.imread(fpath)\n",
    "            img = cv2.medianBlur(img, 3)\n",
    "            img = cv2.cvtColor(img, cv2.COLOR_BGR2GRAY)\n",
    "            ret, img = cv2.threshold(img, 0, 255, cv2.THRESH_BINARY | cv2.THRESH_OTSU)\n",
    "\n",
    "            print(fpath)\n",
    "            num_labels, labels, stats, centroids = jpg_ccl(img)\n",
    "            temp_list = [num_labels, labels, stats, centroids]\n",
    "            ccl_dict[fpath] = temp_list\n",
    "            "
   ]
  },
  {
   "cell_type": "code",
   "execution_count": 7,
   "id": "abc40779",
   "metadata": {},
   "outputs": [
    {
     "data": {
      "text/plain": [
       "{}"
      ]
     },
     "execution_count": 7,
     "metadata": {},
     "output_type": "execute_result"
    }
   ],
   "source": [
    "ccl_dict"
   ]
  },
  {
   "cell_type": "code",
   "execution_count": null,
   "id": "70983a09",
   "metadata": {},
   "outputs": [],
   "source": []
  }
 ],
 "metadata": {
  "kernelspec": {
   "display_name": "Python 3 (ipykernel)",
   "language": "python",
   "name": "python3"
  },
  "language_info": {
   "codemirror_mode": {
    "name": "ipython",
    "version": 3
   },
   "file_extension": ".py",
   "mimetype": "text/x-python",
   "name": "python",
   "nbconvert_exporter": "python",
   "pygments_lexer": "ipython3",
   "version": "3.8.12"
  }
 },
 "nbformat": 4,
 "nbformat_minor": 5
}
