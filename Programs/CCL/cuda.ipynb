{
 "cells": [
  {
   "cell_type": "code",
   "execution_count": 2,
   "metadata": {},
   "outputs": [
    {
     "ename": "error",
     "evalue": "OpenCV(4.7.0) /Users/runner/work/opencv-python/opencv-python/opencv/modules/core/include/opencv2/core/private.cuda.hpp:106: error: (-216:No CUDA support) The library is compiled without CUDA support in function 'throw_no_cuda'\n",
     "output_type": "error",
     "traceback": [
      "\u001b[0;31m---------------------------------------------------------------------------\u001b[0m",
      "\u001b[0;31merror\u001b[0m                                     Traceback (most recent call last)",
      "Cell \u001b[0;32mIn[2], line 15\u001b[0m\n\u001b[1;32m     13\u001b[0m \u001b[39m# Create a GPU image\u001b[39;00m\n\u001b[1;32m     14\u001b[0m gpu_image \u001b[39m=\u001b[39m cv2\u001b[39m.\u001b[39mcuda_GpuMat()\n\u001b[0;32m---> 15\u001b[0m gpu_image\u001b[39m.\u001b[39;49mupload(binary)\n\u001b[1;32m     17\u001b[0m \u001b[39m# Create a CUDA connected components object\u001b[39;00m\n\u001b[1;32m     18\u001b[0m cc \u001b[39m=\u001b[39m cv2\u001b[39m.\u001b[39mcuda\u001b[39m.\u001b[39mcreateConnectedComponentsWithStats()\n",
      "\u001b[0;31merror\u001b[0m: OpenCV(4.7.0) /Users/runner/work/opencv-python/opencv-python/opencv/modules/core/include/opencv2/core/private.cuda.hpp:106: error: (-216:No CUDA support) The library is compiled without CUDA support in function 'throw_no_cuda'\n"
     ]
    }
   ],
   "source": [
    "import cv2\n",
    "import numpy as np\n",
    "\n",
    "# Load an image\n",
    "image = cv2.imread(\"workflow.jpg\")\n",
    "\n",
    "# Convert the image to grayscale\n",
    "gray = cv2.cvtColor(image, cv2.COLOR_BGR2GRAY)\n",
    "\n",
    "# Threshold the image to create a binary image\n",
    "_, binary = cv2.threshold(gray, 0, 255, cv2.THRESH_BINARY + cv2.THRESH_OTSU)\n",
    "\n",
    "# Create a GPU image\n",
    "gpu_image = cv2.cuda_GpuMat()\n",
    "gpu_image.upload(binary)\n",
    "\n",
    "# Create a CUDA connected components object\n",
    "cc = cv2.cuda.createConnectedComponentsWithStats()\n",
    "\n",
    "# Perform connected component labeling\n",
    "num_labels, labeled_image, stats, centroids = cc(gpu_image)\n",
    "\n",
    "# Convert the labeled image to a numpy array\n",
    "labeled_image = labeled_image.download()\n",
    "\n",
    "# Display the labeled image\n",
    "cv2.imshow(\"Labeled Image\", labeled_image)\n",
    "\n"
   ]
  },
  {
   "cell_type": "code",
   "execution_count": null,
   "metadata": {},
   "outputs": [],
   "source": []
  }
 ],
 "metadata": {
  "kernelspec": {
   "display_name": "fd_ct_3.8",
   "language": "python",
   "name": "python3"
  },
  "language_info": {
   "codemirror_mode": {
    "name": "ipython",
    "version": 3
   },
   "file_extension": ".py",
   "mimetype": "text/x-python",
   "name": "python",
   "nbconvert_exporter": "python",
   "pygments_lexer": "ipython3",
   "version": "3.8.16"
  },
  "orig_nbformat": 4
 },
 "nbformat": 4,
 "nbformat_minor": 2
}
