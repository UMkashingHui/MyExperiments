{
 "cells": [
  {
   "cell_type": "code",
   "execution_count": 1,
   "id": "e476213d",
   "metadata": {},
   "outputs": [],
   "source": [
    "import os\n",
    "import pandas\n",
    "import cv2\n",
    "import numpy as np"
   ]
  },
  {
   "cell_type": "markdown",
   "id": "2718c5fe",
   "metadata": {},
   "source": [
    "# Computation for Sensortivity"
   ]
  },
  {
   "cell_type": "code",
   "execution_count": 2,
   "id": "c13a1eff",
   "metadata": {},
   "outputs": [],
   "source": [
    "def load_ground_truth(ground_truth_path):\n",
    "    data_list = [] #The data list\n",
    "    num_nodes = int\n",
    "    all_nodes = []\n",
    "    num_edges = int\n",
    "    all_edges = []\n",
    "    node_x = []\n",
    "    node_y = []\n",
    "    data_f = open(ground_truth_path, 'r')\n",
    "    for line in data_f.readlines():\n",
    "        data_list.append(line.strip())\n",
    "    num_nodes = int (data_list.pop(0)) #Pop out the number of nodes \n",
    "    \n",
    "    #Get all the number node coordinate\n",
    "    for i in range (0,num_nodes):\n",
    "        node = data_list.pop(0) #Pop out the node coordinate\n",
    "        node = node.split()\n",
    "        node.pop(0) #Pop out the node index  \n",
    "        node_x.append(node[0])\n",
    "        node_y.append(node[1])\n",
    "    #Change it to list    \n",
    "    node_x = list(map(float, node_x))\n",
    "    node_y = list(map(float, node_y))\n",
    "    \n",
    "    #Find the minimun value in x and y list\n",
    "    min_x = min(node_x)\n",
    "    min_y = min(node_y)\n",
    "    #If the coorodinate of nodes are nagative, change it to be positive\n",
    "    if min_x or min_y < 0:\n",
    "        for i in range (0,num_nodes):\n",
    "            node_x[i] = node_x[i] + min_x * -1\n",
    "            node_y[i] = node_y[i] + min_y * -1\n",
    "    #Find the maximun value in x and y list        \n",
    "    max_x = max(node_x)\n",
    "    max_y = max(node_y)\n",
    "    \n",
    "    #Origin coordinates\n",
    "    xc = 0\n",
    "    yc = 0\n",
    "    \n",
    "    #Calulate the canvas size by the node numbers and radius of node\n",
    "    canvas_size = (4 * num_nodes)\n",
    "    #Calulate the ratio for enlarge the coorodinate of node that fitting the canvas size\n",
    "    node_ratio = (min((canvas_size / max_x), (canvas_size / max_y)))\n",
    "    \n",
    "    for i in range (0,num_nodes):\n",
    "        x = int(xc + node_ratio * (node_x[i] - xc))\n",
    "        y = int(yc + node_ratio * (node_y[i] - yc))\n",
    "        all_nodes.append((x, y)) #(X, Y) \n",
    "    \n",
    "    return all_nodes"
   ]
  },
  {
   "cell_type": "code",
   "execution_count": 3,
   "id": "29110e29",
   "metadata": {},
   "outputs": [],
   "source": [
    "def fill_color_demo(image):\n",
    "    copyIma = image.copy()\n",
    "    h, w = image.shape[:2]\n",
    "    print(h, w)\n",
    "    mask = np.zeros([h+2, w+2], np.uint8)\n",
    "    \n",
    "    cv2.floodFill(copyIma, mask, (0, 0), (0, 0, 0), (100, 100, 100), (50, 50, 50), cv2.FLOODFILL_FIXED_RANGE)\n",
    "    cv2.floodFill(copyIma, mask, (w-1, 0), (0, 0, 0), (100, 100, 100), (50, 50, 50), cv2.FLOODFILL_FIXED_RANGE)  \n",
    "    cv2.floodFill(copyIma, mask, (0, h-1), (0, 0, 0), (100, 100, 100), (50, 50, 50), cv2.FLOODFILL_FIXED_RANGE)  \n",
    "    cv2.floodFill(copyIma, mask, (w-1, h-1), (0, 0, 0), (100, 100, 100), (50, 50, 50), cv2.FLOODFILL_FIXED_RANGE)  \n",
    "\n",
    "    return copyIma"
   ]
  },
  {
   "cell_type": "code",
   "execution_count": 16,
   "id": "a414adb2",
   "metadata": {},
   "outputs": [],
   "source": [
    "def CCL(file_path, nodes):\n",
    "    # Load the image\n",
    "    img = cv2.imread(file_path, cv2.IMREAD_GRAYSCALE)\n",
    "    img = fill_color_demo(img)\n",
    "    # Apply binary thresholding to create a binary image\n",
    "    thresh = cv2.threshold(img, 127, 255, cv2.THRESH_BINARY)[1]\n",
    "\n",
    "    # Apply connected component labeling to find the contours\n",
    "    num_labels, labels, stats, centroids = cv2.connectedComponentsWithStats(thresh, connectivity=8)\n",
    "\n",
    "    # Find the contours that correspond to the foreground\n",
    "    contours = []\n",
    "    for i in range(1, num_labels):\n",
    "        x, y, w, h, area = stats[i]\n",
    "        if area > 0:\n",
    "            contours.append(cv2.findContours((labels == i).astype('uint8'), cv2.RETR_EXTERNAL, cv2.CHAIN_APPROX_SIMPLE)[0])\n",
    "\n",
    "    # Count the number of nodes lying on the contours\n",
    "    num_nodes_on_contours = 0\n",
    "    for node in nodes:\n",
    "        for contour in contours:\n",
    "            dist = cv2.pointPolygonTest(contour, node, False)\n",
    "            if dist >= 0:\n",
    "                num_nodes_on_contours += 1\n",
    "                break\n",
    "\n",
    "\n",
    "    # Print the results\n",
    "    print(\"Number of contours found: \", len(contours))\n",
    "    print(\"Number of nodes lying in the contours: \", num_nodes_in_contours)\n"
   ]
  },
  {
   "cell_type": "code",
   "execution_count": 82,
   "id": "b03d5092",
   "metadata": {},
   "outputs": [],
   "source": [
    "def CT(file_path, nodes):\n",
    "    '''\n",
    "    Given a file_path of jpg file to do contour tracing and return the nodes list in contours\n",
    "    '''\n",
    "    img = cv2.imread(file_path)\n",
    "    gray = cv2.cvtColor(img, cv2.COLOR_BGR2GRAY)\n",
    "    ret, thresh = cv2.threshold(gray, 127, 255, cv2.THRESH_BINARY)\n",
    "    contours, hierarchy = cv2.findContours(thresh, cv2.RETR_CCOMP, cv2.CHAIN_APPROX_SIMPLE)\n",
    "    \n",
    "    # Find holes (inner contours)\n",
    "    holes = []\n",
    "    for i in range(len(contours)):\n",
    "        if hierarchy[0][i][3] != -1:\n",
    "            holes.append(contours[i])\n",
    "\n",
    "            \n",
    "    print(f\"{len(holes)} holes detected.\")\n",
    "\n",
    "    # check how many ground truth nodes in the contours \n",
    "    num_nodes_in_contours = 0\n",
    "    for node in nodes:\n",
    "        for hole in holes:\n",
    "            dist = cv2.pointPolygonTest(hole, node, False)\n",
    "            if dist >= 0:\n",
    "                num_nodes_in_contours += 1\n",
    "                break\n",
    "                \n",
    "    for i in range(1,len(contours)):\n",
    "        cv2.fillPoly(img, pts=[contours[i]], color=(255,0,0))\n",
    "        \n",
    "    cv2.imwrite(\"CT_output.jpg\",img)\n",
    "    # Draw contours and holes\n",
    "    img_contours = cv2.drawContours(img, contours, -1, (0, 255, 0), 3)\n",
    "    img_holes = cv2.drawContours(img, holes, -1, (0, 0, 255), 3)\n",
    "    # Display the images\n",
    "    cv2.imshow('Contours', img_contours)\n",
    "    cv2.imshow('Holes', img_holes)\n",
    "    # Print the results\n",
    "    print(\"Number of contours found: \", len(contours))\n",
    "    print(\"Number of nodes lying in the contours: \", num_nodes_in_contours)\n",
    "\n",
    "#     return num_nodes_in_contours"
   ]
  },
  {
   "cell_type": "markdown",
   "id": "d09df66b",
   "metadata": {},
   "source": [
    "## GT_GN：利用GroundTruth生成的Graph中在大于某个面积的洞的点\n",
    "## GT_LN：利用GroundTruth生成的Graph中不在大于某个面积的洞的点\n",
    "### TP（真阳性）= GT_GN in FD-CT/FD-CCL contours\n",
    "### TN（真阴性）= GT_LN not in FD-CT/FD-CCL contours\n",
    "### FP（假阳性）= GT_LN in FD-CT/FD-CCL contours\n",
    "### FN（假阴性）= GT_GN not in FD-CT/FD-CCL contours"
   ]
  },
  {
   "cell_type": "code",
   "execution_count": 83,
   "id": "19dce159",
   "metadata": {
    "scrolled": true
   },
   "outputs": [
    {
     "name": "stdout",
     "output_type": "stream",
     "text": [
      "2000\n",
      "0 holes detected.\n",
      "Number of contours found:  7833\n",
      "Number of nodes lying in the contours:  0\n"
     ]
    }
   ],
   "source": [
    "# file_path = \"../../../jpg_file/Sparse/FA2/n=500d=6_32813.jpg\"\n",
    "file_path = \"/Users/kevinhui/WorkPlace/ThesisProject/Experiments/Data/Experiment_Graphs/FloodFilled/Sparse_KKW_n=2000_d=6_FF_CCL.jpg\"\n",
    "ground_truth_path = \"/Users/kevinhui/WorkPlace/ThesisProject/Experiments/Data/ground-truth/Sparse/n=2000d=6\"\n",
    "ground_truth_nodes = load_ground_truth(ground_truth_path)\n",
    "print(len(ground_truth_nodes))\n",
    "CT(file_path, ground_truth_nodes)\n",
    "# CCL(file_path, ground_truth_nodes)"
   ]
  },
  {
   "cell_type": "code",
   "execution_count": 63,
   "id": "30163edb",
   "metadata": {},
   "outputs": [
    {
     "name": "stdout",
     "output_type": "stream",
     "text": [
      "Number of contours found:  687\n",
      "Number of nodes lying in the contours:  455\n"
     ]
    }
   ],
   "source": [
    "import cv2\n",
    "import numpy as np\n",
    "\n",
    "# Load the image and convert it to grayscale\n",
    "img = cv2.imread(file_path)\n",
    "gray = cv2.cvtColor(img, cv2.COLOR_BGR2GRAY)\n",
    "\n",
    "# Threshold the image to create a binary image\n",
    "ret, thresh = cv2.threshold(gray, 127, 255, cv2.THRESH_BINARY)\n",
    "\n",
    "# Use connected component labeling to find the contours\n",
    "num_labels, labels, stats, centroids = cv2.connectedComponentsWithStats(thresh, connectivity=8)\n",
    "\n",
    "# Loop through each label (excluding the background label 0)\n",
    "num_nodes_in_contours = 0\n",
    "for i in range(1, num_labels):\n",
    "    # Create a mask for the current label\n",
    "    mask = np.zeros(thresh.shape, dtype=np.uint8)\n",
    "    mask[labels == i] = 255\n",
    "    \n",
    "    # Find the contour for the current label\n",
    "    contours, hierarchy = cv2.findContours(mask, cv2.RETR_EXTERNAL, cv2.CHAIN_APPROX_SIMPLE)\n",
    "    \n",
    "    # Check if any of the nodes in the given list are lying on the contour\n",
    "    for node in ground_truth_nodes:\n",
    "        distance = cv2.pointPolygonTest(contours[0], node, measureDist=True)\n",
    "        if distance >= 0:\n",
    "            num_nodes_in_contours += 1\n",
    "\n",
    "output = img\n",
    "for i in range(1, num_labels):\n",
    "    # Area of the component\n",
    "    area = stats[i, cv2.CC_STAT_AREA] \n",
    "#     if area > 10000:\n",
    "#         print(str(i) + \" area is \" + str(area))\n",
    "    mask = labels == i\n",
    "    output[:, :, 0][mask] = 255\n",
    "    output[:, :, 1][mask] = 0\n",
    "    output[:, :, 2][mask] = 0\n",
    "cv2.imwrite(\"CCL_output.jpg\",output)\n",
    "\n",
    "# Print the results\n",
    "print(\"Number of contours found: \", num_labels)\n",
    "print(\"Number of nodes lying in the contours: \", num_nodes_in_contours)"
   ]
  },
  {
   "cell_type": "code",
   "execution_count": null,
   "id": "d7b4aa0f",
   "metadata": {},
   "outputs": [],
   "source": []
  },
  {
   "cell_type": "code",
   "execution_count": null,
   "id": "0b199fe5",
   "metadata": {},
   "outputs": [],
   "source": []
  }
 ],
 "metadata": {
  "kernelspec": {
   "display_name": "Python 3 (ipykernel)",
   "language": "python",
   "name": "python3"
  },
  "language_info": {
   "codemirror_mode": {
    "name": "ipython",
    "version": 3
   },
   "file_extension": ".py",
   "mimetype": "text/x-python",
   "name": "python",
   "nbconvert_exporter": "python",
   "pygments_lexer": "ipython3",
   "version": "3.8.16"
  }
 },
 "nbformat": 4,
 "nbformat_minor": 5
}
