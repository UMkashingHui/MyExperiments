{
 "cells": [
  {
   "cell_type": "code",
   "execution_count": 4,
   "metadata": {},
   "outputs": [],
   "source": [
    "import os\n",
    "import pandas as pd\n",
    "import cv2\n",
    "import numpy as np\n",
    "import time"
   ]
  },
  {
   "cell_type": "code",
   "execution_count": 18,
   "metadata": {},
   "outputs": [],
   "source": [
    "file_name_sparse = os.path.join(\"csv\",\"Sparse\",\"result_sparse.csv\")\n",
    "file_name_uniform = os.path.join(\"csv\",\"Uniform\",\"result_uniform.csv\")\n",
    "# Load CSV file as pandas DataFrame\n",
    "df_sparse = pd.read_csv(file_name_sparse)\n",
    "df_uniform = pd.read_csv(file_name_uniform)"
   ]
  },
  {
   "cell_type": "code",
   "execution_count": 19,
   "metadata": {},
   "outputs": [],
   "source": [
    "sparse_sensitivity = df_sparse[\"TPR Sensitivity\"]\n",
    "uniform_sensitivity = df_uniform[\"TPR Sensitivity\"]"
   ]
  },
  {
   "cell_type": "code",
   "execution_count": 20,
   "metadata": {},
   "outputs": [
    {
     "name": "stdout",
     "output_type": "stream",
     "text": [
      "0.5242697266286558\n"
     ]
    }
   ],
   "source": [
    "sum_s = 0\n",
    "count = 0\n",
    "for s,u in zip(sparse_sensitivity, uniform_sensitivity):\n",
    "    count = count + 1\n",
    "    sum_s = sum_s + s/u - 1\n",
    "print(sum_s/count)"
   ]
  },
  {
   "cell_type": "code",
   "execution_count": 30,
   "metadata": {},
   "outputs": [],
   "source": [
    "kk_sparse = []\n",
    "other_sparse = []\n",
    "sum_kk = 0\n",
    "sum_other = 0\n",
    "for index,row in df_sparse.iterrows():\n",
    "    if \"KK\" in row[\"FD graph\"]:\n",
    "        kk_sparse.append(row[\"TPR Sensitivity\"])\n",
    "        sum_kk = sum_kk + row[\"TPR Sensitivity\"]\n",
    "    else:\n",
    "        other_sparse.append(row[\"TPR Sensitivity\"])\n",
    "        sum_other = sum_other + row[\"TPR Sensitivity\"]\n"
   ]
  },
  {
   "cell_type": "code",
   "execution_count": 31,
   "metadata": {},
   "outputs": [
    {
     "name": "stdout",
     "output_type": "stream",
     "text": [
      "1.1208180369119656\n"
     ]
    }
   ],
   "source": [
    "print((sum_kk / 25) / (sum_other / 75))"
   ]
  },
  {
   "cell_type": "code",
   "execution_count": 32,
   "metadata": {},
   "outputs": [
    {
     "name": "stdout",
     "output_type": "stream",
     "text": [
      "-0.22695829582989302\n"
     ]
    }
   ],
   "source": [
    "sparse_specificity = df_sparse[\"TNR Specificity\"]\n",
    "uniform_specificity = df_uniform[\"TNR Specificity\"]\n",
    "sum = 0\n",
    "count = 0\n",
    "for s,u in zip(sparse_specificity, uniform_specificity):\n",
    "    count = count + 1\n",
    "    sum = sum + s/u - 1\n",
    "print(sum/count)"
   ]
  },
  {
   "cell_type": "code",
   "execution_count": null,
   "metadata": {},
   "outputs": [],
   "source": []
  }
 ],
 "metadata": {
  "kernelspec": {
   "display_name": "CT_3.9",
   "language": "python",
   "name": "python3"
  },
  "language_info": {
   "codemirror_mode": {
    "name": "ipython",
    "version": 3
   },
   "file_extension": ".py",
   "mimetype": "text/x-python",
   "name": "python",
   "nbconvert_exporter": "python",
   "pygments_lexer": "ipython3",
   "version": "3.8.16"
  },
  "orig_nbformat": 4
 },
 "nbformat": 4,
 "nbformat_minor": 2
}
