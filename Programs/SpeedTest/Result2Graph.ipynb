{
 "cells": [
  {
   "cell_type": "code",
   "execution_count": 1,
   "metadata": {},
   "outputs": [],
   "source": [
    "import os\n",
    "import numpy as np\n",
    "import pandas as pd\n",
    "import matplotlib.pyplot as plt"
   ]
  },
  {
   "cell_type": "code",
   "execution_count": 2,
   "metadata": {},
   "outputs": [],
   "source": [
    "def split_df(df, fd_list):\n",
    "    df_result = pd.DataFrame(columns=['Type', 'FD_Algorithm', 'Nodes_Number', 'Degree', 'CT_Time', 'CCL_Time'])\n",
    "    for filename in df['File Path']:\n",
    "        new_name = filename.replace(\"../../../Data/jpg/jpg_fd_files/\",\"\")\n",
    "        name_list = new_name.split('/')\n",
    "        if name_list[1] not in fd_list:\n",
    "            continue\n",
    "        prop_list = name_list[-1].split('=')\n",
    "        node_number = prop_list[1].replace('d','')\n",
    "        if \"_\" in prop_list[2]:\n",
    "            degree = prop_list[2].split(\"_\")[0]\n",
    "        else:\n",
    "            degree = prop_list[2].replace(\".jpg\",\"\")\n",
    "        ct = df.loc[df['File Path'] == filename, 'CT Time'].values[0]\n",
    "        ccl = df.loc[df['File Path'] == filename, 'CCL Time'].values[0]\n",
    "        df_result.loc[len(df_result.index)] = [name_list[0], name_list[1], node_number, degree, ct, ccl]\n",
    "        \n",
    "    return df_result\n",
    "\n"
   ]
  },
  {
   "cell_type": "code",
   "execution_count": 3,
   "metadata": {},
   "outputs": [],
   "source": [
    "def average_same_degree(df_splitted, degree, num_list):\n",
    "    result_dict = {}\n",
    "    degree_list = []\n",
    "    average_ct_list = []\n",
    "    average_ccl_list = []\n",
    "    nodes_list = []\n",
    "    for num in num_list:\n",
    "        average_ct = df_splitted.loc[(df_splitted['Nodes_Number'] == str(num)) & (df_splitted['Degree'] == str(degree)) , 'CT_Time'].mean()\n",
    "        average_ccl = df_splitted.loc[(df_splitted['Nodes_Number'] == str(num)) & (df_splitted['Degree'] == str(degree)), 'CCL_Time'].mean()\n",
    "        # column_ct = df_splitted.loc[(df_splitted['Nodes_Number'] == str(num)) & (df_splitted['Degree'] == str(degree)), 'CT_Time']\n",
    "        # column_ccl = df_splitted.loc[(df_splitted['Nodes_Number'] == str(num)) & (df_splitted['Degree'] == str(degree)), 'CCL_Time']\n",
    "        # print(column_ct)\n",
    "        # print(column_ccl)\n",
    "        degree_list.append(str(degree))\n",
    "        nodes_list.append(str(num))\n",
    "        average_ct_list.append(average_ct)\n",
    "        average_ccl_list.append(average_ccl)\n",
    "        \n",
    "        # print(average_ccl)\n",
    "        # print(average_ct)\n",
    "    result_dict['Degree'] = degree_list\n",
    "    result_dict['Nodes_Number'] = nodes_list\n",
    "    result_dict['Average_CT'] = average_ct_list\n",
    "    result_dict['Average_CCL'] = average_ccl_list\n",
    "    return result_dict"
   ]
  },
  {
   "cell_type": "code",
   "execution_count": 4,
   "metadata": {},
   "outputs": [],
   "source": [
    "def draw_speed_line_chart_in_same_degree(_degree, nodes_number_list, ct_list, ccl_list):\n",
    "    y1 = ct_list\n",
    "    y2 = ccl_list\n",
    "    # Plot the curves\n",
    "    plt.plot(nodes_number_list, y1, label='CT_Time')\n",
    "    plt.plot(nodes_number_list, y2, label='CCL_Time')\n",
    "    plt.xticks(nodes_number_list)\n",
    "    # Add a title and legend\n",
    "    plt.title('Degree=' + str(_degree))\n",
    "    plt.legend()\n",
    "    fname = \"Average_LineChart_d=\"+str(_degree)+\".pdf\"\n",
    "\n",
    "    plt.savefig(os.path.join(\"LineCharts\",fname),bbox_inches =\"tight\") \n",
    "    # Show the chart\n",
    "    plt.show()"
   ]
  },
  {
   "cell_type": "code",
   "execution_count": 5,
   "metadata": {},
   "outputs": [],
   "source": [
    "def draw_speed_bar_in_same_degree(_degree, nodes_number_value, ct_list, ccl_list, total_width=0.8, n=2, num=5):\n",
    "    target_path = \"Bars\"\n",
    "    x=np.arange(num)#柱状图在横坐标上的位置\n",
    "    width = total_width / n\n",
    "    x = x - (total_width - width) / 2\n",
    "    # fname = \"Type=\"+_type+\"_d=\"+str(_degree)+\"_FD=\"+fd+\".pdf\"\n",
    "    fname = \"Average_Bar_d=\"+str(_degree)+\".pdf\"\n",
    "    plt.bar(x + width/2, ct_list,  width=width, label='FD-CT Time')\n",
    "    plt.bar(x+width/2+width, ccl_list, width=width, label='FD-CCL Time')\n",
    "    # plt.bar(x+width*2, ct, width=width, label='CT')\n",
    "    # 功能2\n",
    "    for i, j in zip(x + width/2, ct_list):\n",
    "        plt.text(i, j + 0.01, \"%.2f\" % j, ha=\"center\", va=\"bottom\", fontsize=7)\n",
    "    for i, j in zip(x+width/2+width, ccl_list):\n",
    "        plt.text(i, j + 0.01, \"%.2f\" % j, ha=\"center\", va=\"bottom\", fontsize=7)\n",
    "\n",
    "    plt.legend()\n",
    "    plt.xticks(x+total_width/2,nodes_number_value)#显示x坐标轴的标签,即tick_label,调整位置，使其落在两个直方图中间位置\n",
    "    # plt.title(\"Type=\"+_type+\", degree=\"+str(_degree)+\", FD algorithm=\"+fd)\n",
    "    plt.title(\"Degree=\"+str(_degree))\n",
    "\n",
    "    plt.ylabel('Processing Time(s)')\n",
    "    plt.xlabel('Number of Nodes')\n",
    "    # plt.savefig(os.path.join(target_path, fname),bbox_inches =\"tight\", pad_inches = 1,transparent = True) \n",
    "    plt.savefig(os.path.join(target_path, fname),bbox_inches =\"tight\") \n",
    "    plt.show()"
   ]
  },
  {
   "cell_type": "code",
   "execution_count": 6,
   "metadata": {},
   "outputs": [],
   "source": [
    "def main_process(degree_list, num_list, num, fd_list):\n",
    "    fname = os.path.join(\"csv\",\"velocity_result.csv\")\n",
    "    # Load CSV file as pandas DataFrame\n",
    "    df = pd.read_csv(fname)\n",
    "    df_splitted = split_df(df,fd_list)\n",
    "    for degree in degree_list:\n",
    "        result_dict = average_same_degree(df_splitted, degree, num_list)\n",
    "        result_df = pd.DataFrame.from_dict(result_dict)\n",
    "        result_df.to_csv(\"csv/average_d=\"+ str(degree) + \"fd=\" + fd + \".csv\",index=True)\n",
    "        # csv_name = \"csv/average_d=\"+str(degree)+\".csv\"\n",
    "        # df_csv = pd.read_csv(csv_name)\n",
    "        ct_list = result_df['Average_CT'].values\n",
    "        ccl_list = result_df['Average_CCL'].values\n",
    "        draw_speed_bar_in_same_degree(degree, num_list, ct_list, ccl_list, num = num)\n",
    "        draw_speed_line_chart_in_same_degree(degree, num_list, ct_list, ccl_list)"
   ]
  },
  {
   "cell_type": "code",
   "execution_count": 7,
   "metadata": {},
   "outputs": [
    {
     "ename": "NameError",
     "evalue": "name 'fd' is not defined",
     "output_type": "error",
     "traceback": [
      "\u001b[0;31m---------------------------------------------------------------------------\u001b[0m",
      "\u001b[0;31mNameError\u001b[0m                                 Traceback (most recent call last)",
      "Cell \u001b[0;32mIn[7], line 4\u001b[0m\n\u001b[1;32m      2\u001b[0m num_list \u001b[39m=\u001b[39m [\u001b[39m200\u001b[39m, \u001b[39m500\u001b[39m, \u001b[39m1000\u001b[39m, \u001b[39m2000\u001b[39m, \u001b[39m3000\u001b[39m]\n\u001b[1;32m      3\u001b[0m fd_list \u001b[39m=\u001b[39m [\u001b[39m\"\u001b[39m\u001b[39mFA2\u001b[39m\u001b[39m\"\u001b[39m, \u001b[39m\"\u001b[39m\u001b[39mFR\u001b[39m\u001b[39m\"\u001b[39m, \u001b[39m\"\u001b[39m\u001b[39mJIGGLE\u001b[39m\u001b[39m\"\u001b[39m]\n\u001b[0;32m----> 4\u001b[0m main_process(degree_list\u001b[39m=\u001b[39;49mdegree_list, num_list\u001b[39m=\u001b[39;49mnum_list, num\u001b[39m=\u001b[39;49m\u001b[39mlen\u001b[39;49m(num_list), fd_list \u001b[39m=\u001b[39;49m fd_list)\n",
      "Cell \u001b[0;32mIn[6], line 9\u001b[0m, in \u001b[0;36mmain_process\u001b[0;34m(degree_list, num_list, num, fd_list)\u001b[0m\n\u001b[1;32m      7\u001b[0m result_dict \u001b[39m=\u001b[39m average_same_degree(df_splitted, degree, num_list)\n\u001b[1;32m      8\u001b[0m result_df \u001b[39m=\u001b[39m pd\u001b[39m.\u001b[39mDataFrame\u001b[39m.\u001b[39mfrom_dict(result_dict)\n\u001b[0;32m----> 9\u001b[0m result_df\u001b[39m.\u001b[39mto_csv(\u001b[39m\"\u001b[39m\u001b[39mcsv/average_d=\u001b[39m\u001b[39m\"\u001b[39m\u001b[39m+\u001b[39m \u001b[39mstr\u001b[39m(degree) \u001b[39m+\u001b[39m \u001b[39m\"\u001b[39m\u001b[39mfd=\u001b[39m\u001b[39m\"\u001b[39m \u001b[39m+\u001b[39m fd \u001b[39m+\u001b[39m \u001b[39m\"\u001b[39m\u001b[39m.csv\u001b[39m\u001b[39m\"\u001b[39m,index\u001b[39m=\u001b[39m\u001b[39mTrue\u001b[39;00m)\n\u001b[1;32m     10\u001b[0m \u001b[39m# csv_name = \"csv/average_d=\"+str(degree)+\".csv\"\u001b[39;00m\n\u001b[1;32m     11\u001b[0m \u001b[39m# df_csv = pd.read_csv(csv_name)\u001b[39;00m\n\u001b[1;32m     12\u001b[0m ct_list \u001b[39m=\u001b[39m result_df[\u001b[39m'\u001b[39m\u001b[39mAverage_CT\u001b[39m\u001b[39m'\u001b[39m]\u001b[39m.\u001b[39mvalues\n",
      "\u001b[0;31mNameError\u001b[0m: name 'fd' is not defined"
     ]
    }
   ],
   "source": [
    "degree_list = [6, 8, 10, 12, 15]\n",
    "num_list = [200, 500, 1000, 2000, 3000]\n",
    "fd_list = [\"FA2\", \"FR\", \"JIGGLE\"]\n",
    "main_process(degree_list=degree_list, num_list=num_list, num=len(num_list), fd_list = fd_list)"
   ]
  },
  {
   "cell_type": "code",
   "execution_count": null,
   "metadata": {},
   "outputs": [],
   "source": []
  }
 ],
 "metadata": {
  "kernelspec": {
   "display_name": "CT_3.9",
   "language": "python",
   "name": "python3"
  },
  "language_info": {
   "codemirror_mode": {
    "name": "ipython",
    "version": 3
   },
   "file_extension": ".py",
   "mimetype": "text/x-python",
   "name": "python",
   "nbconvert_exporter": "python",
   "pygments_lexer": "ipython3",
   "version": "3.8.16"
  },
  "orig_nbformat": 4
 },
 "nbformat": 4,
 "nbformat_minor": 2
}
