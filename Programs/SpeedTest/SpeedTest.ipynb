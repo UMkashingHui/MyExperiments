{
 "cells": [
  {
   "cell_type": "code",
   "execution_count": 13,
   "metadata": {},
   "outputs": [],
   "source": [
    "import cv2\n",
    "import numpy as np\n",
    "import time\n",
    "import os\n",
    "import pandas as pd\n",
    "import matplotlib.pyplot as plt\n",
    "import re"
   ]
  },
  {
   "attachments": {},
   "cell_type": "markdown",
   "metadata": {},
   "source": [
    "## 比较CCL和CT获取孔洞信息的速度"
   ]
  },
  {
   "cell_type": "code",
   "execution_count": 14,
   "metadata": {},
   "outputs": [],
   "source": [
    "csv_folder = \"csv\"\n",
    "data_folder = \"../../../Data\"\n",
    "jpg_fd_folder = \"jpg/jpg_fd_files\""
   ]
  },
  {
   "cell_type": "code",
   "execution_count": 15,
   "metadata": {},
   "outputs": [],
   "source": [
    "def ct_get_location(fpath):\n",
    "    # 读取图像\n",
    "    img = cv2.imread(fpath)\n",
    "    area_min_radio = 5000 / 4000\n",
    "    canvas_size = img.shape[0]\n",
    "    area_min = area_min_radio * canvas_size\n",
    "\n",
    "    # 灰度化\n",
    "    gray = cv2.cvtColor(img, cv2.COLOR_BGR2GRAY)\n",
    "\n",
    "    # 二值化\n",
    "    ret, thresh = cv2.threshold(gray, 0, 255, cv2.THRESH_BINARY_INV+cv2.THRESH_OTSU)\n",
    "\n",
    "    # 查找轮廓\n",
    "    start_time = time.time()\n",
    "    contours, hierarchy = cv2.findContours(thresh,  cv2.RETR_CCOMP, cv2.CHAIN_APPROX_SIMPLE)\n",
    "\n",
    "    # 遍历轮廓并输出包围盒位置信息\n",
    "    for contour in contours:\n",
    "        area = cv2.contourArea(contour)\n",
    "        if area > int(area_min):\n",
    "            x, y, w, h = cv2.boundingRect(contour)\n",
    "    end_time = time.time()\n",
    "    # print(f\"CT程序运行时间为：{end_time - start_time:.4f} 秒\")\n",
    "    return end_time - start_time\n",
    "\n",
    "\n"
   ]
  },
  {
   "cell_type": "code",
   "execution_count": 16,
   "metadata": {},
   "outputs": [],
   "source": [
    "def ccl_get_location(fpath):\n",
    "\n",
    "    # 读取图像\n",
    "    img = cv2.imread(fpath)\n",
    "    area_min_radio = 5000 / 4000\n",
    "    canvas_size = img.shape[0]\n",
    "    area_min = area_min_radio * canvas_size\n",
    "    # 灰度化\n",
    "    img_mb = cv2.medianBlur(img, 3)\n",
    "    gray = cv2.cvtColor(img_mb, cv2.COLOR_BGR2GRAY)\n",
    "    # cv2.imwrite('gray.jpg', gray)\n",
    "    # stats_dict = {}\n",
    "    # 二值化\n",
    "    ret, binary = cv2.threshold(gray, 0, 255, cv2.THRESH_BINARY | cv2.THRESH_OTSU)\n",
    "    # 使用CCL方法查找连通组件\n",
    "    # cv2.imwrite('binary.jpg', binary)\n",
    "\n",
    "    start_time = time.time()\n",
    "    num_labels, labels, stats, centroids = cv2.connectedComponentsWithStats(binary, connectivity=4)\n",
    "    # 遍历每个连通组件，并输出其位置信\n",
    "    for i in range(1, num_labels):\n",
    "        area = stats[i, cv2.CC_STAT_AREA] \n",
    "        if area > int(area_min):\n",
    "            x, y, w, h, area = stats[i]\n",
    "            # stats_dict[num_labels] = [x, y, w, h, area]\n",
    "            # print(f\"连通组件 {i} 的位置为：({x}, {y}), 宽度为 {w}, 高度为 {h}\")\n",
    "    end_time = time.time()\n",
    "    # result_df = pd.DataFrame.from_dict(stats_dict)\n",
    "    # result_df.to_csv(os.path.join(csv_folder, \"stats_result.csv\"),index=True)\n",
    "    # 输出程序运行时间\n",
    "    # print(f\"CCL程序运行时间为：{end_time - start_time:.4f} 秒\")\n",
    "    return end_time - start_time\n",
    "\n"
   ]
  },
  {
   "cell_type": "code",
   "execution_count": 17,
   "metadata": {},
   "outputs": [],
   "source": [
    "def get_time_csv(node_list, degree_list, fd_list, type_list):\n",
    "    fpath_list = []\n",
    "    for type in type_list:\n",
    "        for fd in fd_list:\n",
    "            for degree in degree_list:\n",
    "                for num in node_list:\n",
    "                    for root, dirs, files in os.walk(os.path.join(data_folder, jpg_fd_folder, type, fd)): \n",
    "                        for file in files: \n",
    "                            if str(num)+\"d=\"+str(degree) in os.path.splitext(file)[0]: \n",
    "                                fpath_list.append(os.path.join(root,file))\n",
    "    # print(len(fpath_list))\n",
    "    ct_list = []\n",
    "    ccl_list = []\n",
    "    path_list = []\n",
    "    velocity_dict = {}\n",
    "    for path in fpath_list:\n",
    "        # print(\"file name = \" + path)\n",
    "        ct_time = ct_get_location(path)\n",
    "        ccl_time = ccl_get_location(path)\n",
    "        path_list.append(path)\n",
    "        ct_list.append(ct_time)\n",
    "        ccl_list.append(ccl_time)\n",
    "    velocity_dict[\"File Path\"] = path_list\n",
    "    velocity_dict[\"CT Time\"] = ct_list\n",
    "    velocity_dict[\"CCL Time\"] = ccl_list\n",
    "    result_df = pd.DataFrame.from_dict(velocity_dict)\n",
    "    result_df.to_csv(os.path.join(csv_folder, \"velocity_result.csv\"),index=False)\n",
    "    return ct_list, ccl_list\n",
    "    "
   ]
  },
  {
   "cell_type": "code",
   "execution_count": 18,
   "metadata": {},
   "outputs": [],
   "source": [
    "node_list = [200, 500, 1000, 2000, 3000]\n",
    "fd_list = [\"FA2\", \"FR\", \"JIGGLE\", \"KK\"]\n",
    "type_list = [\"Sparse\", \"Uniform\"]\n",
    "degree_list = [6, 8, 10, 12, 15]\n",
    "ct_list, ccl_list = get_time_csv(node_list, degree_list, fd_list, type_list)\n",
    "# draw_speed_line_chart_in_same_degree(\"Sparse\", degree, ct_list, ccl_list)\n",
    "# draw_speed_bar_in_same_degree(\"Sparse\", degree, ct_list, ccl_list)\n"
   ]
  }
 ],
 "metadata": {
  "kernelspec": {
   "display_name": "fd_ct_3.8",
   "language": "python",
   "name": "python3"
  },
  "language_info": {
   "codemirror_mode": {
    "name": "ipython",
    "version": 3
   },
   "file_extension": ".py",
   "mimetype": "text/x-python",
   "name": "python",
   "nbconvert_exporter": "python",
   "pygments_lexer": "ipython3",
   "version": "3.8.12"
  },
  "orig_nbformat": 4
 },
 "nbformat": 4,
 "nbformat_minor": 2
}
